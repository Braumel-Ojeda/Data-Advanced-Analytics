{
 "cells": [
  {
   "cell_type": "markdown",
   "metadata": {},
   "source": [
    "# Analítica Avanzada de Datos. - Práctica 1\n",
    "---"
   ]
  },
  {
   "cell_type": "markdown",
   "metadata": {},
   "source": [
    "Ahora es tu turno de analizar un banco de datos del mundo real que contiene datos de vuelos del Departamento de Transporte de Estados Unidos"
   ]
  },
  {
   "cell_type": "markdown",
   "metadata": {},
   "source": [
    "Primero carga y visualiza los datos. (flights.csv)"
   ]
  },
  {
   "cell_type": "code",
   "execution_count": 2,
   "metadata": {},
   "outputs": [],
   "source": [
    "import pandas as pd\n",
    "import numpy as np"
   ]
  },
  {
   "cell_type": "code",
   "execution_count": 3,
   "metadata": {},
   "outputs": [
    {
     "data": {
      "text/html": [
       "<div>\n",
       "<style scoped>\n",
       "    .dataframe tbody tr th:only-of-type {\n",
       "        vertical-align: middle;\n",
       "    }\n",
       "\n",
       "    .dataframe tbody tr th {\n",
       "        vertical-align: top;\n",
       "    }\n",
       "\n",
       "    .dataframe thead th {\n",
       "        text-align: right;\n",
       "    }\n",
       "</style>\n",
       "<table border=\"1\" class=\"dataframe\">\n",
       "  <thead>\n",
       "    <tr style=\"text-align: right;\">\n",
       "      <th></th>\n",
       "      <th>Year</th>\n",
       "      <th>Month</th>\n",
       "      <th>DayofMonth</th>\n",
       "      <th>DayOfWeek</th>\n",
       "      <th>Carrier</th>\n",
       "      <th>OriginAirportID</th>\n",
       "      <th>OriginAirportName</th>\n",
       "      <th>OriginCity</th>\n",
       "      <th>OriginState</th>\n",
       "      <th>DestAirportID</th>\n",
       "      <th>DestAirportName</th>\n",
       "      <th>DestCity</th>\n",
       "      <th>DestState</th>\n",
       "      <th>CRSDepTime</th>\n",
       "      <th>DepDelay</th>\n",
       "      <th>DepDel15</th>\n",
       "      <th>CRSArrTime</th>\n",
       "      <th>ArrDelay</th>\n",
       "      <th>ArrDel15</th>\n",
       "      <th>Cancelled</th>\n",
       "    </tr>\n",
       "  </thead>\n",
       "  <tbody>\n",
       "    <tr>\n",
       "      <th>0</th>\n",
       "      <td>2013</td>\n",
       "      <td>9</td>\n",
       "      <td>16</td>\n",
       "      <td>1</td>\n",
       "      <td>DL</td>\n",
       "      <td>15304</td>\n",
       "      <td>Tampa International</td>\n",
       "      <td>Tampa</td>\n",
       "      <td>FL</td>\n",
       "      <td>12478</td>\n",
       "      <td>John F. Kennedy International</td>\n",
       "      <td>New York</td>\n",
       "      <td>NY</td>\n",
       "      <td>1539</td>\n",
       "      <td>4</td>\n",
       "      <td>0.0</td>\n",
       "      <td>1824</td>\n",
       "      <td>13</td>\n",
       "      <td>0</td>\n",
       "      <td>0</td>\n",
       "    </tr>\n",
       "    <tr>\n",
       "      <th>1</th>\n",
       "      <td>2013</td>\n",
       "      <td>9</td>\n",
       "      <td>23</td>\n",
       "      <td>1</td>\n",
       "      <td>WN</td>\n",
       "      <td>14122</td>\n",
       "      <td>Pittsburgh International</td>\n",
       "      <td>Pittsburgh</td>\n",
       "      <td>PA</td>\n",
       "      <td>13232</td>\n",
       "      <td>Chicago Midway International</td>\n",
       "      <td>Chicago</td>\n",
       "      <td>IL</td>\n",
       "      <td>710</td>\n",
       "      <td>3</td>\n",
       "      <td>0.0</td>\n",
       "      <td>740</td>\n",
       "      <td>22</td>\n",
       "      <td>1</td>\n",
       "      <td>0</td>\n",
       "    </tr>\n",
       "    <tr>\n",
       "      <th>2</th>\n",
       "      <td>2013</td>\n",
       "      <td>9</td>\n",
       "      <td>7</td>\n",
       "      <td>6</td>\n",
       "      <td>AS</td>\n",
       "      <td>14747</td>\n",
       "      <td>Seattle/Tacoma International</td>\n",
       "      <td>Seattle</td>\n",
       "      <td>WA</td>\n",
       "      <td>11278</td>\n",
       "      <td>Ronald Reagan Washington National</td>\n",
       "      <td>Washington</td>\n",
       "      <td>DC</td>\n",
       "      <td>810</td>\n",
       "      <td>-3</td>\n",
       "      <td>0.0</td>\n",
       "      <td>1614</td>\n",
       "      <td>-7</td>\n",
       "      <td>0</td>\n",
       "      <td>0</td>\n",
       "    </tr>\n",
       "  </tbody>\n",
       "</table>\n",
       "</div>"
      ],
      "text/plain": [
       "   Year  Month  DayofMonth  DayOfWeek Carrier  OriginAirportID  \\\n",
       "0  2013      9          16          1      DL            15304   \n",
       "1  2013      9          23          1      WN            14122   \n",
       "2  2013      9           7          6      AS            14747   \n",
       "\n",
       "              OriginAirportName  OriginCity OriginState  DestAirportID  \\\n",
       "0           Tampa International       Tampa          FL          12478   \n",
       "1      Pittsburgh International  Pittsburgh          PA          13232   \n",
       "2  Seattle/Tacoma International     Seattle          WA          11278   \n",
       "\n",
       "                     DestAirportName    DestCity DestState  CRSDepTime  \\\n",
       "0      John F. Kennedy International    New York        NY        1539   \n",
       "1       Chicago Midway International     Chicago        IL         710   \n",
       "2  Ronald Reagan Washington National  Washington        DC         810   \n",
       "\n",
       "   DepDelay  DepDel15  CRSArrTime  ArrDelay  ArrDel15  Cancelled  \n",
       "0         4       0.0        1824        13         0          0  \n",
       "1         3       0.0         740        22         1          0  \n",
       "2        -3       0.0        1614        -7         0          0  "
      ]
     },
     "execution_count": 3,
     "metadata": {},
     "output_type": "execute_result"
    }
   ],
   "source": [
    "df = pd.read_csv(\"flights.csv\")\n",
    "df.head(3)"
   ]
  },
  {
   "cell_type": "markdown",
   "metadata": {},
   "source": [
    "El banco de datos contiene observaciones de los vuelos nacionales estadounidenses en 2013 y consta de los siguientes campos:\n",
    "- **Año**: El año del vuelo (todos los registros son de 2013).\n",
    "- **Mes**: El mes del vuelo\n",
    "- **DayofMonth** (día del mes): El día del mes en el que salió el vuelo\n",
    "- **Día de la semana**: El día de la semana en que salió el vuelo - del 1 (lunes) al 7 (domingo)\n",
    "- **Compañía aérea**: La abreviatura de dos letras de la compañía aérea.\n",
    "- **OriginAirportID**: Identificador numérico único del aeropuerto de salida.\n",
    "- **OriginAirportName**: El nombre completo del aeropuerto de salida\n",
    "- **OriginCity** (Ciudad de origen): Ciudad del aeropuerto de salida\n",
    "- **OriginState**: Estado del aeropuerto de salida Estado del aeropuerto de salida\n",
    "- **DestAirportID**: Identificador numérico único del aeropuerto de destino\n",
    "- **DestAirportName**: El nombre completo del aeropuerto de destino\n",
    "- **DestCity**: La ciudad del aeropuerto de destino\n",
    "- **DestState**: El estado del aeropuerto de destino\n",
    "- **CRSDepTime**: La hora de salida programada\n",
    "- **DepDelay**: El número de minutos que se retrasó la salida (los vuelos que salieron antes de lo previsto tienen un valor negativo)\n",
    "- **DelDelay15**: Un indicador binario de que la salida se retrasó más de 15 minutos (y por lo tanto se considera \"tarde\")\n",
    "- **CRSArrTime**: La hora de llegada programada\n",
    "- **ArrDelay**: El número de minutos que se retrasó la lleg"
   ]
  },
  {
   "cell_type": "markdown",
   "metadata": {},
   "source": [
    "Lo que se tiene que hacer en esta práctica es explorar los datos de vuelo para analizar los posibles factores que afectan a los retrasos en la salida o llegada de un vuelo."
   ]
  },
  {
   "cell_type": "markdown",
   "metadata": {},
   "source": [
    " 1. Empieza con limpiar los datos.\n",
    "     - Identifica los datos nulos o ausentes e imputa los valores de sustitución adecuados.\n",
    "     - Identifica y elimina cualquier valor atípico en las columnas *DepDelay* y *ArrDelay*.\n",
    "             - Tips: \n",
    "            - Primero visualiza la distribución de las columnas\n",
    "            - Define donde se observan los valores atipicos \n",
    "            - Recorta los datos de tal forma que los percentiles esten entre 1 y 90\n",
    " 2. Explora los datos limpios.\n",
    "     - Consulta las estadísticas de resumen de los campos numéricos del conjunto de datos.\n",
    "     - Determina la distribución de las columnas *DepDelay* y *ArrDelay*.\n",
    "     - Utiliza estadísticas, funciones de agregación y visualización para responder a las siguientes preguntas:\n",
    "         - *¿Cuáles son los promedios (mean) de salida y llegada?*\n",
    "         - *¿Cómo se comparan las compañías en cuanto a retrasos en las llegadas?*\n",
    "         - *¿Hay días de la semana más propensos a las llegadas que otros?*\n",
    "         - *¿Cuál es el aeropuerto de salida con mayor retraso medio?*\n",
    "         - *¿Las salidas tardías suelen provocar mayores retrasos en las llegadas que las salidas puntuales?*\n",
    "         - *¿Qué ruta (del aeropuerto de origen al aeropuerto de destino) tiene más llegadas con retraso?*\n",
    "         - *¿Qué ruta tiene el mayor retraso medio de llegada?*"
   ]
  },
  {
   "cell_type": "code",
   "execution_count": 4,
   "metadata": {},
   "outputs": [],
   "source": [
    "def check_nans(df):\n",
    "    for c in list(df.columns.values):\n",
    "        print(c + ' NaNs -> ' + str(df[c].isnull().sum()))"
   ]
  },
  {
   "cell_type": "code",
   "execution_count": 5,
   "metadata": {},
   "outputs": [
    {
     "name": "stdout",
     "output_type": "stream",
     "text": [
      "Year NaNs -> 0\n",
      "Month NaNs -> 0\n",
      "DayofMonth NaNs -> 0\n",
      "DayOfWeek NaNs -> 0\n",
      "Carrier NaNs -> 0\n",
      "OriginAirportID NaNs -> 0\n",
      "OriginAirportName NaNs -> 0\n",
      "OriginCity NaNs -> 0\n",
      "OriginState NaNs -> 0\n",
      "DestAirportID NaNs -> 0\n",
      "DestAirportName NaNs -> 0\n",
      "DestCity NaNs -> 0\n",
      "DestState NaNs -> 0\n",
      "CRSDepTime NaNs -> 0\n",
      "DepDelay NaNs -> 0\n",
      "DepDel15 NaNs -> 2761\n",
      "CRSArrTime NaNs -> 0\n",
      "ArrDelay NaNs -> 0\n",
      "ArrDel15 NaNs -> 0\n",
      "Cancelled NaNs -> 0\n"
     ]
    }
   ],
   "source": [
    "check_nans(df)"
   ]
  },
  {
   "cell_type": "code",
   "execution_count": 6,
   "metadata": {},
   "outputs": [
    {
     "data": {
      "text/plain": [
       "271940"
      ]
     },
     "execution_count": 6,
     "metadata": {},
     "output_type": "execute_result"
    }
   ],
   "source": [
    "len(df)"
   ]
  },
  {
   "cell_type": "code",
   "execution_count": 11,
   "metadata": {},
   "outputs": [
    {
     "data": {
      "text/plain": [
       "array([   171,    359,    429, ..., 271634, 271671, 271885], dtype=int64)"
      ]
     },
     "execution_count": 11,
     "metadata": {},
     "output_type": "execute_result"
    }
   ],
   "source": [
    "df[df['DepDel15'].isnull() == True].index.values"
   ]
  }
 ],
 "metadata": {
  "kernelspec": {
   "display_name": "Python 3 (ipykernel)",
   "language": "python",
   "name": "python3"
  },
  "language_info": {
   "codemirror_mode": {
    "name": "ipython",
    "version": 3
   },
   "file_extension": ".py",
   "mimetype": "text/x-python",
   "name": "python",
   "nbconvert_exporter": "python",
   "pygments_lexer": "ipython3",
   "version": "3.9.12"
  }
 },
 "nbformat": 4,
 "nbformat_minor": 4
}
